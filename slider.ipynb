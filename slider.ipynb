{
 "cells": [
  {
   "cell_type": "code",
   "execution_count": 1,
   "metadata": {},
   "outputs": [],
   "source": [
    "#Slider application with a scatter plot\n",
    "\n",
    "\n",
    "#Import the required packages\n",
    "\n",
    "from bokeh.models import Slider, ColumnDataSource\n",
    "from bokeh.io import curdoc\n",
    "from bokeh.layouts import row\n",
    "from bokeh.plotting import figure\n",
    "from numpy.random import random\n",
    "\n",
    "#Create data for the plot\n",
    "\n",
    "initial_points = 500\n",
    "\n",
    "data_points = ColumnDataSource(data = {'x': random(initial_points), 'y': random(initial_points)})\n",
    "\n",
    "#Create the plot\n",
    "\n",
    "plot = figure(title = \"Random scatter plot generator\")\n",
    "\n",
    "plot.diamond(x = 'x', y = 'y', source = data_points, color = 'red')\n",
    "\n",
    "#Create the slider widget\n",
    "\n",
    "slider_widget = Slider(start = 0, end = 10000, step = 10, value = initial_points, title = 'Slide right to increase number of points')\n",
    "\n",
    "#Define the callback function\n",
    "\n",
    "def callback(attr, old, new):\n",
    "    \n",
    "    points = slider_widget.value\n",
    "    data_points.data = {'x': random(points), 'y': random(points)}\n",
    "    \n",
    "slider_widget.on_change('value', callback)\n",
    "\n",
    "#Create a layout for the application\n",
    "\n",
    "layout = row(slider_widget, plot)\n",
    "\n",
    "#Add the layout to the application\n",
    "\n",
    "curdoc().add_root(layout)\n",
    "\n",
    "#Launching the application\n",
    "\n",
    "#bokeh serve --show bokeh.py\n",
    "\n"
   ]
  },
  {
   "cell_type": "code",
   "execution_count": null,
   "metadata": {},
   "outputs": [],
   "source": []
  }
 ],
 "metadata": {
  "kernelspec": {
   "display_name": "Python 3",
   "language": "python",
   "name": "python3"
  },
  "language_info": {
   "codemirror_mode": {
    "name": "ipython",
    "version": 3
   },
   "file_extension": ".py",
   "mimetype": "text/x-python",
   "name": "python",
   "nbconvert_exporter": "python",
   "pygments_lexer": "ipython3",
   "version": "3.7.3"
  }
 },
 "nbformat": 4,
 "nbformat_minor": 2
}
